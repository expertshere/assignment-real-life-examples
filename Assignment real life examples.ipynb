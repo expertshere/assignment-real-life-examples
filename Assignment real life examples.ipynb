{
 "cells": [
  {
   "cell_type": "code",
   "execution_count": 5,
   "id": "cbb9d2fa",
   "metadata": {},
   "outputs": [
    {
     "name": "stdout",
     "output_type": "stream",
     "text": [
      "average steps per weeks is 14000\n",
      "total distance covered in month is 3000\n"
     ]
    }
   ],
   "source": [
    "#fitness Tracker \n",
    "daily_steps=2000\n",
    "distanced_walked=100\n",
    "calories_burned=60\n",
    "average_steps_per_weeks=(daily_steps)*7\n",
    "total_distance_in_month=(distanced_walked)*30\n",
    "print(\"average steps per weeks is\",average_steps_per_weeks)\n",
    "print(\"total distance covered in month is\",total_distance_in_month)\n"
   ]
  },
  {
   "cell_type": "code",
   "execution_count": 7,
   "id": "709399fa",
   "metadata": {},
   "outputs": [
    {
     "name": "stdout",
     "output_type": "stream",
     "text": [
      "1000\n",
      "you have enough budget\n"
     ]
    }
   ],
   "source": [
    "#shopping list\n",
    "name_of_items=\"wall clock\"\n",
    "quantities=1\n",
    "prices=1000\n",
    "total_cost=(quantities*prices)\n",
    "print(total_cost)\n",
    "budget=3000\n",
    "if budget>=3000:\n",
    "    print(\"you have enough budget\")\n",
    "else:\n",
    "    print(\"you have not enough budget\")"
   ]
  },
  {
   "cell_type": "code",
   "execution_count": 7,
   "id": "21f92bed",
   "metadata": {},
   "outputs": [
    {
     "name": "stdout",
     "output_type": "stream",
     "text": [
      "Enter the desired number of servings: 8\n",
      "Adjusted quantities for 8 servings:\n",
      "water: 3.2 glass\n",
      "Sugar: 6.4 tea spoon\n"
     ]
    }
   ],
   "source": [
    "\n",
    "#recipe calculator\n",
    "num_of_servings = 5\n",
    "recipe_ingredient1= \"water\"\n",
    "recipe_ingredient2= \"sugar\"\n",
    "amount_of_ingredient1=2\n",
    "amount_of_ingredient2=4\n",
    "\n",
    "desired_servings = int(input(\"Enter the desired number of servings: \"))\n",
    "\n",
    "adjustment_factor = desired_servings / num_of_servings\n",
    "\n",
    "adjusted_quantity1 = amount_of_ingredient1 * adjustment_factor\n",
    "adjusted_quantity2 = amount_of_ingredient2 * adjustment_factor\n",
    "\n",
    "print(\"Adjusted quantities for\", desired_servings, \"servings:\")\n",
    "print(\"water:\", adjusted_quantity1, \"glass\")\n",
    "print(\"Sugar:\", adjusted_quantity2, \"tea spoon\")\n"
   ]
  },
  {
   "cell_type": "code",
   "execution_count": 10,
   "id": "caca7f97",
   "metadata": {},
   "outputs": [
    {
     "name": "stdout",
     "output_type": "stream",
     "text": [
      "enter the movie_genre:horror\n",
      "enter the movie rating:6.6\n",
      "enter the movie releasing year:2023\n",
      "suggested movie,Dark vision\n"
     ]
    }
   ],
   "source": [
    "#movie reccomendation system\n",
    "movie_title =\"Dark vision\"\n",
    "movie_genre=\"horror\"\n",
    "movie_rating=6.6\n",
    "releasing_year=2023\n",
    "genre=input(\"enter the movie_genre:\")\n",
    "rating=float(input(\"enter the movie rating:\"))\n",
    "release_year=int(input(\"enter the movie releasing year:\"))\n",
    "if( movie_genre==genre) and (movie_rating==rating) and ( releasing_year==release_year):\n",
    "    print(f\"suggested movie,{movie_title}\")\n",
    "else:\n",
    "    print(\"no match found\")\n"
   ]
  },
  {
   "cell_type": "code",
   "execution_count": 11,
   "id": "c2f5b20c",
   "metadata": {},
   "outputs": [
    {
     "name": "stdout",
     "output_type": "stream",
     "text": [
      "Total time spent on Coding: 2 hours\n",
      "Total time spent on Cooking: 1.5 hours\n",
      "Your time distribution is relatively balanced. Good job!\n"
     ]
    }
   ],
   "source": [
    "#time mnagment tool\n",
    "task1_name = \"Coding\"\n",
    "task1_duration = 2\n",
    "\n",
    "task2_name = \"Cooking\"\n",
    "task2_duration = 1.5\n",
    "total_task1_time = task1_duration\n",
    "total_task2_time = task2_duration\n",
    "print(f\"Total time spent on {task1_name}: {total_task1_time} hours\")\n",
    "print(f\"Total time spent on {task2_name}: {total_task2_time} hours\")\n",
    "\n",
    "max_time_task = max(total_task1_time, total_task2_time)\n",
    "min_time_task = min(total_task1_time, total_task2_time)\n",
    "\n",
    "if max_time_task - min_time_task >= 2.0:\n",
    "    print(\"There is a  difference in time spent on tasks. please balancing your workload.\")\n",
    "else:\n",
    "    print(\"Your time distribution is relatively balanced. Good job!\")\n"
   ]
  },
  {
   "cell_type": "code",
   "execution_count": null,
   "id": "40366039",
   "metadata": {},
   "outputs": [],
   "source": []
  }
 ],
 "metadata": {
  "kernelspec": {
   "display_name": "Python 3 (ipykernel)",
   "language": "python",
   "name": "python3"
  },
  "language_info": {
   "codemirror_mode": {
    "name": "ipython",
    "version": 3
   },
   "file_extension": ".py",
   "mimetype": "text/x-python",
   "name": "python",
   "nbconvert_exporter": "python",
   "pygments_lexer": "ipython3",
   "version": "3.11.5"
  }
 },
 "nbformat": 4,
 "nbformat_minor": 5
}
